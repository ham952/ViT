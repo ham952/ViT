{
  "nbformat": 4,
  "nbformat_minor": 0,
  "metadata": {
    "colab": {
      "provenance": [],
      "gpuType": "T4",
      "authorship_tag": "ABX9TyNw2I8MMLaacBx1VwTvUhZw",
      "include_colab_link": true
    },
    "kernelspec": {
      "name": "python3",
      "display_name": "Python 3"
    },
    "language_info": {
      "name": "python"
    },
    "accelerator": "GPU"
  },
  "cells": [
    {
      "cell_type": "markdown",
      "metadata": {
        "id": "view-in-github",
        "colab_type": "text"
      },
      "source": [
        "<a href=\"https://colab.research.google.com/github/ham952/ViT/blob/main/ViT_embeddings_benchmark.ipynb\" target=\"_parent\"><img src=\"https://colab.research.google.com/assets/colab-badge.svg\" alt=\"Open In Colab\"/></a>"
      ]
    },
    {
      "cell_type": "code",
      "execution_count": 2,
      "metadata": {
        "id": "0VkuUm3WA-XV"
      },
      "outputs": [],
      "source": [
        "import torch\n",
        "import torch.nn as nn\n",
        "import torch.nn.functional as F\n",
        "import torch.optim as optim\n",
        "import torchvision\n",
        "from torch.utils.data import DataLoader, Subset\n",
        "from torchvision import datasets, transforms\n",
        "import numpy as np\n",
        "import random\n",
        "import matplotlib.pyplot as plt"
      ]
    },
    {
      "cell_type": "markdown",
      "source": [
        "### Parameters"
      ],
      "metadata": {
        "id": "T80jZT5l6WPo"
      }
    },
    {
      "cell_type": "code",
      "source": [
        "BATCH_SIZE = 512\n",
        "EPOCHS = 20 # Try increasing epochs to 30\n",
        "LEARNING_RATE = 3e-4\n",
        "PATCH_SIZE = 4  # P\n",
        "NUM_CLASSES = 10  # CIFAR-10\n",
        "IMAGE_SIZE = 32 # Transform the image and make the size go to 224\n",
        "CHANNELS = 3\n",
        "EMBED_DIM = 256 # or 512 # E\n",
        "NUM_HEADS = 8 # INcrease the number heads\n",
        "DEPTH = 6 # transformer blocks\n",
        "MLP_DIM = 512\n",
        "DROP_RATE = 0.1\n",
        "# num_patches = (IMAGE_SIZE // PATCH_SIZE) ** 2 : 64 # N\n",
        "# x shape: torch.Size([512, 3, 32, 32])"
      ],
      "metadata": {
        "id": "ip734BQPKGK-"
      },
      "execution_count": 2,
      "outputs": []
    },
    {
      "cell_type": "markdown",
      "source": [
        "### Dataset"
      ],
      "metadata": {
        "id": "Co1BzSg26YzE"
      }
    },
    {
      "cell_type": "code",
      "source": [
        "# Define transformations\n",
        "train_transform = transforms.Compose([\n",
        "    transforms.RandomRotation(15),  # Random rotation for training data\n",
        "    transforms.ToTensor(),\n",
        "    transforms.Normalize((0.5,), (0.5,))\n",
        "])\n",
        "\n",
        "val_test_transform = transforms.Compose([\n",
        "    transforms.ToTensor(),\n",
        "    transforms.Normalize((0.5,), (0.5,))\n",
        "])"
      ],
      "metadata": {
        "id": "InRvwqJP6G2k"
      },
      "execution_count": 3,
      "outputs": []
    },
    {
      "cell_type": "code",
      "source": [
        "train_dataset = datasets.CIFAR10(root=\"data\",\n",
        "                                 train= True,\n",
        "                                 download=True,\n",
        "                                 transform=train_transform)\n",
        "\n",
        "val_dataset = datasets.CIFAR10(root=\"data\",\n",
        "                                 train= True,\n",
        "                                 download=True,\n",
        "                                 transform=val_test_transform)\n",
        "\n",
        "test_dataset = datasets.CIFAR10(root=\"data\",\n",
        "                                 train= False,\n",
        "                                 download=True,\n",
        "                                 transform=val_test_transform)"
      ],
      "metadata": {
        "colab": {
          "base_uri": "https://localhost:8080/"
        },
        "id": "IcDo1uUI6IZy",
        "outputId": "03c54863-930b-4ca6-a7f5-4b2fcaef6b2e"
      },
      "execution_count": 4,
      "outputs": [
        {
          "output_type": "stream",
          "name": "stderr",
          "text": [
            "100%|██████████| 170M/170M [00:13<00:00, 13.0MB/s]\n"
          ]
        }
      ]
    },
    {
      "cell_type": "code",
      "source": [
        "train_dataset = Subset(train_dataset, range(40000))\n",
        "val_dataset = Subset(val_dataset, range(40000, len(val_dataset)))"
      ],
      "metadata": {
        "id": "0nKJgAGB6M23"
      },
      "execution_count": 5,
      "outputs": []
    },
    {
      "cell_type": "code",
      "execution_count": 6,
      "metadata": {
        "id": "5mPhumfmfUn-"
      },
      "outputs": [],
      "source": [
        "train_loader = DataLoader(dataset=train_dataset,\n",
        "                          batch_size=BATCH_SIZE,\n",
        "                          drop_last=True,\n",
        "                          shuffle=True)\n",
        "\n",
        "val_loader = DataLoader(dataset=val_dataset,\n",
        "                            batch_size=BATCH_SIZE,\n",
        "                            drop_last=True,\n",
        "                            shuffle=True)\n",
        "\n",
        "test_loader = DataLoader(dataset=test_dataset,\n",
        "                          batch_size=BATCH_SIZE,\n",
        "                          shuffle=False)"
      ]
    },
    {
      "cell_type": "code",
      "execution_count": 7,
      "metadata": {
        "colab": {
          "base_uri": "https://localhost:8080/"
        },
        "id": "iDnWJTXVf8p0",
        "outputId": "85b4d5b8-d106-4896-ed5c-b2feeff3bb1a"
      },
      "outputs": [
        {
          "output_type": "stream",
          "name": "stdout",
          "text": [
            "Length of train_loader: 78 batches of 512...\n",
            "Length of val_loader: 19 batches of 512...\n",
            "Length of test_loader: 20 batches of 512...\n",
            " Batch index: 0 | Batch size: 512 | x shape: torch.Size([512, 3, 32, 32]) | y shape: torch.Size([512])\n",
            " Batch index: 1 | Batch size: 512 | x shape: torch.Size([512, 3, 32, 32]) | y shape: torch.Size([512])\n",
            " Batch index: 2 | Batch size: 512 | x shape: torch.Size([512, 3, 32, 32]) | y shape: torch.Size([512])\n"
          ]
        }
      ],
      "source": [
        "# Let's check out what we've created\n",
        "print(f\"Length of train_loader: {len(train_loader)} batches of {BATCH_SIZE}...\")\n",
        "print(f\"Length of val_loader: {len(val_loader)} batches of {BATCH_SIZE}...\")\n",
        "print(f\"Length of test_loader: {len(test_loader)} batches of {BATCH_SIZE}...\")\n",
        "\n",
        "num_epochs = 1\n",
        "for epoch in range(num_epochs):\n",
        "\n",
        "    for batch_idx, (x, y) in enumerate(train_loader):\n",
        "        if batch_idx >= 3:\n",
        "            break\n",
        "        print(\" Batch index:\", batch_idx, end=\"\")\n",
        "        print(\" | Batch size:\", y.shape[0], end=\"\")\n",
        "        print(\" | x shape:\", x.shape, end=\"\")\n",
        "        print(\" | y shape:\", y.shape)\n",
        "\n",
        "# print(\"Labels from current batch:\", y)"
      ]
    },
    {
      "cell_type": "code",
      "source": [
        "device = \"cuda\" if torch.cuda.is_available() else \"cpu\"\n",
        "device"
      ],
      "metadata": {
        "colab": {
          "base_uri": "https://localhost:8080/",
          "height": 35
        },
        "id": "0HY12RHu-xbV",
        "outputId": "d0ee83b2-3478-4e02-b3d8-d4f8266d3eca"
      },
      "execution_count": 8,
      "outputs": [
        {
          "output_type": "execute_result",
          "data": {
            "text/plain": [
              "'cpu'"
            ],
            "application/vnd.google.colaboratory.intrinsic+json": {
              "type": "string"
            }
          },
          "metadata": {},
          "execution_count": 8
        }
      ]
    },
    {
      "cell_type": "markdown",
      "source": [
        "## Loading Embeddings"
      ],
      "metadata": {
        "id": "FrlPGkQM6nqh"
      }
    },
    {
      "cell_type": "code",
      "source": [
        "class PatchEmbedding(nn.Module):\n",
        "    def __init__(self,\n",
        "                img_size,\n",
        "                patch_size,\n",
        "                in_channels,\n",
        "                embed_dim):\n",
        "      super().__init__()\n",
        "\n",
        "      self.patch_size = patch_size\n",
        "      self.proj = nn.Conv2d(in_channels= in_channels,\n",
        "                            out_channels= embed_dim,\n",
        "                            kernel_size=patch_size,\n",
        "                            stride = patch_size)\n",
        "      num_patches = (img_size // patch_size) ** 2\n",
        "      self.cls_token = nn.Parameter(torch.randn(1, 1, embed_dim), requires_grad=True) # Classification Token\n",
        "      self.pos_embed = nn.Parameter(torch.randn(1, 1 + num_patches, embed_dim), requires_grad= True) # 1, N+1, E\n",
        "      self.dropout = nn.Dropout(p=0.1)\n",
        "\n",
        "    def forward(self, x:torch.Tensor):\n",
        "      B = x.size(0)\n",
        "      x = self.proj(x)  # B, C, IH, IW     --> B, E, IH/P, IW/P                Split image into the patches and embed patches\n",
        "      x = x.flatten(2).transpose(1, 2) # B, E, IH/P, IW/P --> B, E, (IH/P*IW/P) --> B, E, N --> B, N, E\n",
        "      cls_tokens = self.cls_token.expand(B, -1, -1) # 1, 1, E --> B, 1, E\n",
        "      x = torch.cat([cls_tokens, x], dim=1) # B, N+1, E i.e., [512, 65, 256]\n",
        "      x = x + self.pos_embed # [B, N+1, E] +  [1, N+1, E]\n",
        "      x = self.dropout(x)\n",
        "      return x\n"
      ],
      "metadata": {
        "id": "cTDbamyX8Spz"
      },
      "execution_count": 9,
      "outputs": []
    },
    {
      "cell_type": "code",
      "source": [
        "class MLP(nn.Module):\n",
        "    def __init__(self,\n",
        "                 in_features,\n",
        "                 hidden_features,\n",
        "                 drop_rate):\n",
        "        super().__init__()\n",
        "        self.fc1 = nn.Linear(in_features=in_features,\n",
        "                             out_features=hidden_features)\n",
        "        self.fc2 = nn.Linear(in_features=hidden_features,\n",
        "                             out_features=in_features)\n",
        "        self.dropout = nn.Dropout(drop_rate)\n",
        "\n",
        "    def forward(self, x):\n",
        "        x = self.dropout(F.gelu(self.fc1(x)))\n",
        "        x = self.dropout(self.fc2(x))\n",
        "        return x"
      ],
      "metadata": {
        "id": "NMjx_MCW8Qra"
      },
      "execution_count": 10,
      "outputs": []
    },
    {
      "cell_type": "code",
      "source": [
        "class TransformerEncoderLayer(nn.Module):\n",
        "    def __init__(self, embed_dim, num_heads, mlp_dim, drop_rate):\n",
        "        super().__init__()\n",
        "        self.norm1 = nn.LayerNorm(embed_dim)\n",
        "        self.attn = nn.MultiheadAttention(embed_dim, num_heads, dropout=drop_rate, batch_first=True)\n",
        "        self.norm2 = nn.LayerNorm(embed_dim)\n",
        "        self.mlp = MLP(embed_dim, mlp_dim, drop_rate)\n",
        "\n",
        "    def forward(self, x):\n",
        "        x = x + self.attn(self.norm1(x), self.norm1(x), self.norm1(x))[0] # query, key, value # returns tuple (output, attn_weights)[0]\n",
        "                                                                          # output = (batch_size, seq_len, embed_dim)\n",
        "                                                                          # attn_weights = (batch_size, num_heads, seq_len, seq_len)\n",
        "\n",
        "        x = x + self.mlp(self.norm2(x))\n",
        "        return x"
      ],
      "metadata": {
        "id": "TKETafRy8OQh"
      },
      "execution_count": 11,
      "outputs": []
    },
    {
      "cell_type": "code",
      "source": [
        "class VisionTransformer(nn.Module):\n",
        "    def __init__(self, img_size, patch_size, in_channels, num_classes,\n",
        "                 embed_dim, depth, num_heads, mlp_dim, drop_rate,\n",
        "                 use_identity_head=False, use_identity_norm=False):\n",
        "        super().__init__()\n",
        "\n",
        "        self.patch_embed = PatchEmbedding(img_size, patch_size, in_channels, embed_dim)\n",
        "\n",
        "        self.encoder = nn.Sequential(*[\n",
        "            TransformerEncoderLayer(embed_dim, num_heads, mlp_dim, drop_rate)\n",
        "            for _ in range(depth)\n",
        "        ])\n",
        "\n",
        "        self.norm = nn.Identity() if use_identity_norm else nn.LayerNorm(embed_dim)\n",
        "        self.head = nn.Identity() if use_identity_head else nn.Linear(embed_dim, num_classes)\n",
        "\n",
        "    def forward(self, x):\n",
        "        x = self.patch_embed(x)       # B, N+1, E\n",
        "        x = self.encoder(x)           # B, N+1, E\n",
        "        x = self.norm(x)              # B, N+1, E\n",
        "        cls_token = x[:, 0]           # B, E\n",
        "        x = self.head(cls_token)      # B, num_classes OR B, embed_dim\n",
        "        return x\n"
      ],
      "metadata": {
        "id": "Tex09cv78HZ6"
      },
      "execution_count": 12,
      "outputs": []
    },
    {
      "cell_type": "code",
      "source": [
        "model = VisionTransformer(\n",
        "    img_size=IMAGE_SIZE,\n",
        "    patch_size=PATCH_SIZE,\n",
        "    in_channels=CHANNELS,\n",
        "    num_classes=NUM_CLASSES,       # unused if head is Identity\n",
        "    embed_dim=256,\n",
        "    depth=6,\n",
        "    num_heads=NUM_HEADS,\n",
        "    mlp_dim=MLP_DIM,\n",
        "    drop_rate=DROP_RATE,\n",
        "    use_identity_head=True,\n",
        "    use_identity_norm=True\n",
        ").to(device)"
      ],
      "metadata": {
        "id": "SlreiWmGsg1P"
      },
      "execution_count": null,
      "outputs": []
    },
    {
      "cell_type": "code",
      "source": [
        "model.load_state_dict(torch.load(\"vit_embeddings_weights.pth\", map_location=device))\n",
        "model"
      ],
      "metadata": {
        "id": "J0xulOnKsw3L",
        "outputId": "61e7b887-b297-4a02-8b5f-4fe524199ad6",
        "colab": {
          "base_uri": "https://localhost:8080/"
        }
      },
      "execution_count": 20,
      "outputs": [
        {
          "output_type": "execute_result",
          "data": {
            "text/plain": [
              "VisionTransformer(\n",
              "  (patch_embed): PatchEmbedding(\n",
              "    (proj): Conv2d(3, 256, kernel_size=(4, 4), stride=(4, 4))\n",
              "    (dropout): Dropout(p=0.1, inplace=False)\n",
              "  )\n",
              "  (encoder): Sequential(\n",
              "    (0): TransformerEncoderLayer(\n",
              "      (norm1): LayerNorm((256,), eps=1e-05, elementwise_affine=True)\n",
              "      (attn): MultiheadAttention(\n",
              "        (out_proj): NonDynamicallyQuantizableLinear(in_features=256, out_features=256, bias=True)\n",
              "      )\n",
              "      (norm2): LayerNorm((256,), eps=1e-05, elementwise_affine=True)\n",
              "      (mlp): MLP(\n",
              "        (fc1): Linear(in_features=256, out_features=512, bias=True)\n",
              "        (fc2): Linear(in_features=512, out_features=256, bias=True)\n",
              "        (dropout): Dropout(p=0.1, inplace=False)\n",
              "      )\n",
              "    )\n",
              "    (1): TransformerEncoderLayer(\n",
              "      (norm1): LayerNorm((256,), eps=1e-05, elementwise_affine=True)\n",
              "      (attn): MultiheadAttention(\n",
              "        (out_proj): NonDynamicallyQuantizableLinear(in_features=256, out_features=256, bias=True)\n",
              "      )\n",
              "      (norm2): LayerNorm((256,), eps=1e-05, elementwise_affine=True)\n",
              "      (mlp): MLP(\n",
              "        (fc1): Linear(in_features=256, out_features=512, bias=True)\n",
              "        (fc2): Linear(in_features=512, out_features=256, bias=True)\n",
              "        (dropout): Dropout(p=0.1, inplace=False)\n",
              "      )\n",
              "    )\n",
              "    (2): TransformerEncoderLayer(\n",
              "      (norm1): LayerNorm((256,), eps=1e-05, elementwise_affine=True)\n",
              "      (attn): MultiheadAttention(\n",
              "        (out_proj): NonDynamicallyQuantizableLinear(in_features=256, out_features=256, bias=True)\n",
              "      )\n",
              "      (norm2): LayerNorm((256,), eps=1e-05, elementwise_affine=True)\n",
              "      (mlp): MLP(\n",
              "        (fc1): Linear(in_features=256, out_features=512, bias=True)\n",
              "        (fc2): Linear(in_features=512, out_features=256, bias=True)\n",
              "        (dropout): Dropout(p=0.1, inplace=False)\n",
              "      )\n",
              "    )\n",
              "    (3): TransformerEncoderLayer(\n",
              "      (norm1): LayerNorm((256,), eps=1e-05, elementwise_affine=True)\n",
              "      (attn): MultiheadAttention(\n",
              "        (out_proj): NonDynamicallyQuantizableLinear(in_features=256, out_features=256, bias=True)\n",
              "      )\n",
              "      (norm2): LayerNorm((256,), eps=1e-05, elementwise_affine=True)\n",
              "      (mlp): MLP(\n",
              "        (fc1): Linear(in_features=256, out_features=512, bias=True)\n",
              "        (fc2): Linear(in_features=512, out_features=256, bias=True)\n",
              "        (dropout): Dropout(p=0.1, inplace=False)\n",
              "      )\n",
              "    )\n",
              "    (4): TransformerEncoderLayer(\n",
              "      (norm1): LayerNorm((256,), eps=1e-05, elementwise_affine=True)\n",
              "      (attn): MultiheadAttention(\n",
              "        (out_proj): NonDynamicallyQuantizableLinear(in_features=256, out_features=256, bias=True)\n",
              "      )\n",
              "      (norm2): LayerNorm((256,), eps=1e-05, elementwise_affine=True)\n",
              "      (mlp): MLP(\n",
              "        (fc1): Linear(in_features=256, out_features=512, bias=True)\n",
              "        (fc2): Linear(in_features=512, out_features=256, bias=True)\n",
              "        (dropout): Dropout(p=0.1, inplace=False)\n",
              "      )\n",
              "    )\n",
              "    (5): TransformerEncoderLayer(\n",
              "      (norm1): LayerNorm((256,), eps=1e-05, elementwise_affine=True)\n",
              "      (attn): MultiheadAttention(\n",
              "        (out_proj): NonDynamicallyQuantizableLinear(in_features=256, out_features=256, bias=True)\n",
              "      )\n",
              "      (norm2): LayerNorm((256,), eps=1e-05, elementwise_affine=True)\n",
              "      (mlp): MLP(\n",
              "        (fc1): Linear(in_features=256, out_features=512, bias=True)\n",
              "        (fc2): Linear(in_features=512, out_features=256, bias=True)\n",
              "        (dropout): Dropout(p=0.1, inplace=False)\n",
              "      )\n",
              "    )\n",
              "  )\n",
              "  (norm): Identity()\n",
              "  (head): Identity()\n",
              ")"
            ]
          },
          "metadata": {},
          "execution_count": 20
        }
      ]
    },
    {
      "cell_type": "code",
      "source": [
        "# Test\n",
        "\n",
        "state = model.load_state_dict(torch.load(\"vit_embeddings_weights.pth\", map_location=device))\n",
        "print(\"Missing keys:\", state.missing_keys)\n",
        "print(\"Unexpected keys:\", state.unexpected_keys)\n",
        "\n",
        "model.eval()\n",
        "with torch.no_grad():\n",
        "    dummy_input = torch.randn(512, 3, 32, 32).to(device)\n",
        "    output = model(dummy_input)\n",
        "    print(\"Output shape:\", output.shape)"
      ],
      "metadata": {
        "id": "dxpPYfPVtJOw",
        "outputId": "c1bbde1c-8621-498a-f027-71bdae091d75",
        "colab": {
          "base_uri": "https://localhost:8080/"
        }
      },
      "execution_count": 24,
      "outputs": [
        {
          "output_type": "stream",
          "name": "stdout",
          "text": [
            "Missing keys: []\n",
            "Unexpected keys: []\n",
            "Output shape: torch.Size([512, 256])\n"
          ]
        }
      ]
    },
    {
      "cell_type": "markdown",
      "source": [
        "## Baseline Model"
      ],
      "metadata": {
        "id": "_59bHBlYvanN"
      }
    },
    {
      "cell_type": "code",
      "source": [
        "pytorch_model = torch.hub.load('pytorch/vision', 'resnet18', weights=None)"
      ],
      "metadata": {
        "id": "CROAu0kCvaBM",
        "outputId": "da4b4fb7-6496-484f-c235-5ef364ae2af6",
        "colab": {
          "base_uri": "https://localhost:8080/"
        }
      },
      "execution_count": 25,
      "outputs": [
        {
          "output_type": "stream",
          "name": "stderr",
          "text": [
            "Downloading: \"https://github.com/pytorch/vision/zipball/main\" to /root/.cache/torch/hub/main.zip\n"
          ]
        }
      ]
    },
    {
      "cell_type": "code",
      "source": [
        "# Modify the classifier head for CIFAR-10 (10 classes)\n",
        "pytorch_model.fc = torch.nn.Linear(pytorch_model.fc.in_features, 10)\n",
        "pytorch_model = pytorch_model.to(device)\n",
        "pytorch_model"
      ],
      "metadata": {
        "id": "Gdln2LFKvmKP",
        "outputId": "08747c09-fc1e-4018-cd02-ab088ab782bc",
        "colab": {
          "base_uri": "https://localhost:8080/"
        }
      },
      "execution_count": 27,
      "outputs": [
        {
          "output_type": "execute_result",
          "data": {
            "text/plain": [
              "ResNet(\n",
              "  (conv1): Conv2d(3, 64, kernel_size=(7, 7), stride=(2, 2), padding=(3, 3), bias=False)\n",
              "  (bn1): BatchNorm2d(64, eps=1e-05, momentum=0.1, affine=True, track_running_stats=True)\n",
              "  (relu): ReLU(inplace=True)\n",
              "  (maxpool): MaxPool2d(kernel_size=3, stride=2, padding=1, dilation=1, ceil_mode=False)\n",
              "  (layer1): Sequential(\n",
              "    (0): BasicBlock(\n",
              "      (conv1): Conv2d(64, 64, kernel_size=(3, 3), stride=(1, 1), padding=(1, 1), bias=False)\n",
              "      (bn1): BatchNorm2d(64, eps=1e-05, momentum=0.1, affine=True, track_running_stats=True)\n",
              "      (relu): ReLU(inplace=True)\n",
              "      (conv2): Conv2d(64, 64, kernel_size=(3, 3), stride=(1, 1), padding=(1, 1), bias=False)\n",
              "      (bn2): BatchNorm2d(64, eps=1e-05, momentum=0.1, affine=True, track_running_stats=True)\n",
              "    )\n",
              "    (1): BasicBlock(\n",
              "      (conv1): Conv2d(64, 64, kernel_size=(3, 3), stride=(1, 1), padding=(1, 1), bias=False)\n",
              "      (bn1): BatchNorm2d(64, eps=1e-05, momentum=0.1, affine=True, track_running_stats=True)\n",
              "      (relu): ReLU(inplace=True)\n",
              "      (conv2): Conv2d(64, 64, kernel_size=(3, 3), stride=(1, 1), padding=(1, 1), bias=False)\n",
              "      (bn2): BatchNorm2d(64, eps=1e-05, momentum=0.1, affine=True, track_running_stats=True)\n",
              "    )\n",
              "  )\n",
              "  (layer2): Sequential(\n",
              "    (0): BasicBlock(\n",
              "      (conv1): Conv2d(64, 128, kernel_size=(3, 3), stride=(2, 2), padding=(1, 1), bias=False)\n",
              "      (bn1): BatchNorm2d(128, eps=1e-05, momentum=0.1, affine=True, track_running_stats=True)\n",
              "      (relu): ReLU(inplace=True)\n",
              "      (conv2): Conv2d(128, 128, kernel_size=(3, 3), stride=(1, 1), padding=(1, 1), bias=False)\n",
              "      (bn2): BatchNorm2d(128, eps=1e-05, momentum=0.1, affine=True, track_running_stats=True)\n",
              "      (downsample): Sequential(\n",
              "        (0): Conv2d(64, 128, kernel_size=(1, 1), stride=(2, 2), bias=False)\n",
              "        (1): BatchNorm2d(128, eps=1e-05, momentum=0.1, affine=True, track_running_stats=True)\n",
              "      )\n",
              "    )\n",
              "    (1): BasicBlock(\n",
              "      (conv1): Conv2d(128, 128, kernel_size=(3, 3), stride=(1, 1), padding=(1, 1), bias=False)\n",
              "      (bn1): BatchNorm2d(128, eps=1e-05, momentum=0.1, affine=True, track_running_stats=True)\n",
              "      (relu): ReLU(inplace=True)\n",
              "      (conv2): Conv2d(128, 128, kernel_size=(3, 3), stride=(1, 1), padding=(1, 1), bias=False)\n",
              "      (bn2): BatchNorm2d(128, eps=1e-05, momentum=0.1, affine=True, track_running_stats=True)\n",
              "    )\n",
              "  )\n",
              "  (layer3): Sequential(\n",
              "    (0): BasicBlock(\n",
              "      (conv1): Conv2d(128, 256, kernel_size=(3, 3), stride=(2, 2), padding=(1, 1), bias=False)\n",
              "      (bn1): BatchNorm2d(256, eps=1e-05, momentum=0.1, affine=True, track_running_stats=True)\n",
              "      (relu): ReLU(inplace=True)\n",
              "      (conv2): Conv2d(256, 256, kernel_size=(3, 3), stride=(1, 1), padding=(1, 1), bias=False)\n",
              "      (bn2): BatchNorm2d(256, eps=1e-05, momentum=0.1, affine=True, track_running_stats=True)\n",
              "      (downsample): Sequential(\n",
              "        (0): Conv2d(128, 256, kernel_size=(1, 1), stride=(2, 2), bias=False)\n",
              "        (1): BatchNorm2d(256, eps=1e-05, momentum=0.1, affine=True, track_running_stats=True)\n",
              "      )\n",
              "    )\n",
              "    (1): BasicBlock(\n",
              "      (conv1): Conv2d(256, 256, kernel_size=(3, 3), stride=(1, 1), padding=(1, 1), bias=False)\n",
              "      (bn1): BatchNorm2d(256, eps=1e-05, momentum=0.1, affine=True, track_running_stats=True)\n",
              "      (relu): ReLU(inplace=True)\n",
              "      (conv2): Conv2d(256, 256, kernel_size=(3, 3), stride=(1, 1), padding=(1, 1), bias=False)\n",
              "      (bn2): BatchNorm2d(256, eps=1e-05, momentum=0.1, affine=True, track_running_stats=True)\n",
              "    )\n",
              "  )\n",
              "  (layer4): Sequential(\n",
              "    (0): BasicBlock(\n",
              "      (conv1): Conv2d(256, 512, kernel_size=(3, 3), stride=(2, 2), padding=(1, 1), bias=False)\n",
              "      (bn1): BatchNorm2d(512, eps=1e-05, momentum=0.1, affine=True, track_running_stats=True)\n",
              "      (relu): ReLU(inplace=True)\n",
              "      (conv2): Conv2d(512, 512, kernel_size=(3, 3), stride=(1, 1), padding=(1, 1), bias=False)\n",
              "      (bn2): BatchNorm2d(512, eps=1e-05, momentum=0.1, affine=True, track_running_stats=True)\n",
              "      (downsample): Sequential(\n",
              "        (0): Conv2d(256, 512, kernel_size=(1, 1), stride=(2, 2), bias=False)\n",
              "        (1): BatchNorm2d(512, eps=1e-05, momentum=0.1, affine=True, track_running_stats=True)\n",
              "      )\n",
              "    )\n",
              "    (1): BasicBlock(\n",
              "      (conv1): Conv2d(512, 512, kernel_size=(3, 3), stride=(1, 1), padding=(1, 1), bias=False)\n",
              "      (bn1): BatchNorm2d(512, eps=1e-05, momentum=0.1, affine=True, track_running_stats=True)\n",
              "      (relu): ReLU(inplace=True)\n",
              "      (conv2): Conv2d(512, 512, kernel_size=(3, 3), stride=(1, 1), padding=(1, 1), bias=False)\n",
              "      (bn2): BatchNorm2d(512, eps=1e-05, momentum=0.1, affine=True, track_running_stats=True)\n",
              "    )\n",
              "  )\n",
              "  (avgpool): AdaptiveAvgPool2d(output_size=(1, 1))\n",
              "  (fc): Linear(in_features=512, out_features=10, bias=True)\n",
              ")"
            ]
          },
          "metadata": {},
          "execution_count": 27
        }
      ]
    },
    {
      "cell_type": "code",
      "source": [
        "import torch.nn as nn\n",
        "import torch.optim as optim\n",
        "\n",
        "criterion = nn.CrossEntropyLoss()\n",
        "optimizer = optim.Adam(pytorch_model.parameters(), lr=1e-3)"
      ],
      "metadata": {
        "id": "so2jzqIByHsY"
      },
      "execution_count": 28,
      "outputs": []
    },
    {
      "cell_type": "code",
      "source": [
        "EPOCHS = 10\n",
        "\n",
        "for epoch in range(EPOCHS):\n",
        "    pytorch_model.train()\n",
        "    running_loss = 0.0\n",
        "    correct = 0\n",
        "    total = 0\n",
        "\n",
        "    for inputs, labels in train_loader:\n",
        "        inputs, labels = inputs.to(device), labels.to(device)\n",
        "\n",
        "        optimizer.zero_grad()\n",
        "        outputs = pytorch_model(inputs)\n",
        "        loss = criterion(outputs, labels)\n",
        "        loss.backward()\n",
        "        optimizer.step()\n",
        "\n",
        "        running_loss += loss.item() * inputs.size(0)\n",
        "        correct += (outputs.argmax(1) == labels).sum().item()\n",
        "        total += labels.size(0)\n",
        "\n",
        "    acc = correct / total\n",
        "    print(f\"Epoch {epoch+1}, Loss: {running_loss/total:.4f}, Accuracy: {acc:.4f}\")"
      ],
      "metadata": {
        "id": "sUeK6J8QyRPy",
        "outputId": "4a81cc36-fb7d-4bb3-cccd-4a96e06bd365",
        "colab": {
          "base_uri": "https://localhost:8080/"
        }
      },
      "execution_count": 29,
      "outputs": [
        {
          "output_type": "stream",
          "name": "stdout",
          "text": [
            "Epoch 1, Loss: 1.5391, Accuracy: 0.4442\n",
            "Epoch 2, Loss: 1.1858, Accuracy: 0.5730\n",
            "Epoch 3, Loss: 1.0229, Accuracy: 0.6362\n",
            "Epoch 4, Loss: 0.9122, Accuracy: 0.6756\n",
            "Epoch 5, Loss: 0.8046, Accuracy: 0.7165\n",
            "Epoch 6, Loss: 0.7255, Accuracy: 0.7448\n",
            "Epoch 7, Loss: 0.6605, Accuracy: 0.7661\n",
            "Epoch 8, Loss: 0.6024, Accuracy: 0.7856\n",
            "Epoch 9, Loss: 0.5520, Accuracy: 0.8026\n",
            "Epoch 10, Loss: 0.4908, Accuracy: 0.8258\n"
          ]
        }
      ]
    },
    {
      "cell_type": "code",
      "source": [
        "def evaluate(model, dataloader, device):\n",
        "    model.eval()  # set model to evaluation mode\n",
        "    correct = 0\n",
        "    total = 0\n",
        "\n",
        "    with torch.no_grad():  # no gradient computation needed\n",
        "        for inputs, labels in dataloader:\n",
        "            inputs, labels = inputs.to(device), labels.to(device)\n",
        "            outputs = model(inputs)  # raw logits\n",
        "            predictions = outputs.argmax(dim=1)  # predicted class indices\n",
        "            correct += (predictions == labels).sum().item()\n",
        "            total += labels.size(0)\n",
        "\n",
        "    accuracy = correct / total\n",
        "    return accuracy\n"
      ],
      "metadata": {
        "id": "Gt6F4qH_ypIk"
      },
      "execution_count": 30,
      "outputs": []
    },
    {
      "cell_type": "code",
      "source": [
        "test_accuracy = evaluate(pytorch_model, test_loader, device)\n",
        "print(f\"Test Accuracy: {test_accuracy:.4f}\")"
      ],
      "metadata": {
        "id": "fGMfFrJdzHIB",
        "outputId": "8f40c265-b14c-4715-ae52-9036a007c6bb",
        "colab": {
          "base_uri": "https://localhost:8080/"
        }
      },
      "execution_count": 31,
      "outputs": [
        {
          "output_type": "stream",
          "name": "stdout",
          "text": [
            "Test Accuracy: 0.6960\n"
          ]
        }
      ]
    },
    {
      "cell_type": "code",
      "source": [
        "def predict_and_plot_grid(model,\n",
        "                          dataset,\n",
        "                          classes,\n",
        "                          grid_size=3):\n",
        "    model.eval()\n",
        "    fig, axes = plt.subplots(grid_size, grid_size, figsize=(9, 9))\n",
        "    for i in range(grid_size):\n",
        "        for j in range(grid_size):\n",
        "            idx = random.randint(0, len(dataset) - 1)\n",
        "            img, true_label = dataset[idx]\n",
        "            input_tensor = img.unsqueeze(dim=0).to(device)\n",
        "            with torch.inference_mode():\n",
        "                output = model(input_tensor)\n",
        "                _, predicted = torch.max(output.data, 1)\n",
        "            img = img / 2 + 0.5 # Unormalize our images to be able to plot them with matplotlib\n",
        "            npimg = img.cpu().numpy()\n",
        "            axes[i, j].imshow(np.transpose(npimg, (1, 2, 0)))\n",
        "            truth = classes[true_label] == classes[predicted.item()]\n",
        "            if truth:\n",
        "                color = \"g\"\n",
        "            else:\n",
        "                color = \"r\"\n",
        "\n",
        "            axes[i, j].set_title(f\"Truth: {classes[true_label]}\\n, Predicted: {classes[predicted.item()]}\", fontsize=10, c=color)\n",
        "            axes[i, j].axis(\"off\")\n",
        "    plt.tight_layout()\n",
        "    plt.show()"
      ],
      "metadata": {
        "id": "D1VQcnxW-gze"
      },
      "execution_count": 32,
      "outputs": []
    },
    {
      "cell_type": "code",
      "source": [
        "predict_and_plot_grid(model=pytorch_model,\n",
        "                      dataset=test_dataset,\n",
        "                      classes=test_dataset.classes,\n",
        "                      grid_size=3)"
      ],
      "metadata": {
        "colab": {
          "base_uri": "https://localhost:8080/",
          "height": 906
        },
        "id": "AH9UrSTB-aA_",
        "outputId": "ef8f0f4f-f545-4e11-ea96-3d991fcf5be3"
      },
      "execution_count": 34,
      "outputs": [
        {
          "output_type": "display_data",
          "data": {
            "text/plain": [
              "<Figure size 900x900 with 9 Axes>"
            ],
            "image/png": "[encoded data removed]"
          },
          "metadata": {}
        }
      ]
    },
    {
      "cell_type": "markdown",
      "source": [
        "## Embeddings Performance"
      ],
      "metadata": {
        "id": "yjO7tALZzbmy"
      }
    },
    {
      "cell_type": "markdown",
      "source": [
        "##1. Create Base Model"
      ],
      "metadata": {
        "id": "2rAUwe27-TgP"
      }
    },
    {
      "cell_type": "code",
      "source": [
        "import torch.nn as nn\n",
        "\n",
        "class BaseModel(nn.Module):\n",
        "    def __init__(self, input_dim=256, num_classes=10):\n",
        "        super().__init__()\n",
        "        self.classifier = nn.Sequential(\n",
        "            nn.Linear(input_dim, 128),\n",
        "            nn.ReLU(),\n",
        "            nn.Dropout(0.3),\n",
        "            nn.Linear(128, num_classes)\n",
        "        )\n",
        "\n",
        "    def forward(self, x):\n",
        "        return self.classifier(x)"
      ],
      "metadata": {
        "id": "OS1zLfT42iuz"
      },
      "execution_count": 52,
      "outputs": []
    },
    {
      "cell_type": "code",
      "source": [
        "def train_model(model, train_loader, val_loader, optimizer, criterion, device, epochs=100, print_every=10):\n",
        "    for epoch in range(epochs):\n",
        "        # Training phase\n",
        "        model.train()\n",
        "        total_loss, correct, total = 0, 0, 0\n",
        "\n",
        "        for x, y in train_loader:\n",
        "            x, y = x.to(device), y.to(device)\n",
        "\n",
        "            optimizer.zero_grad()\n",
        "            outputs = model(x)\n",
        "            loss = criterion(outputs, y)\n",
        "            loss.backward()\n",
        "            optimizer.step()\n",
        "\n",
        "            total_loss += loss.item() * x.size(0)\n",
        "            correct += (outputs.argmax(1) == y).sum().item()\n",
        "            total += y.size(0)\n",
        "\n",
        "        train_acc = correct / total\n",
        "        train_loss = total_loss / total\n",
        "\n",
        "        # Validation phase\n",
        "        model.eval()\n",
        "        val_correct, val_total, val_loss = 0, 0, 0\n",
        "        with torch.no_grad():\n",
        "            for x_val, y_val in val_loader:\n",
        "                x_val, y_val = x_val.to(device), y_val.to(device)\n",
        "                val_outputs = model(x_val)\n",
        "                val_loss += criterion(val_outputs, y_val).item() * x_val.size(0)\n",
        "                val_correct += (val_outputs.argmax(1) == y_val).sum().item()\n",
        "                val_total += y_val.size(0)\n",
        "\n",
        "        val_acc = val_correct / val_total\n",
        "        val_loss = val_loss / val_total\n",
        "\n",
        "        # Print every N epochs\n",
        "        if (epoch + 1) % print_every == 0 or (epoch + 1) == epochs:\n",
        "            print(f\"Epoch {epoch+1}/{epochs} | \"\n",
        "                  f\"Train Acc: {train_acc:.4f} | Val Acc: {val_acc:.4f} | \"\n",
        "                  f\"Train Loss: {train_loss:.4f} | Val Loss: {val_loss:.4f}\")\n"
      ],
      "metadata": {
        "id": "zT65jFZXC1DW"
      },
      "execution_count": 53,
      "outputs": []
    },
    {
      "cell_type": "code",
      "source": [
        "def evaluate(model, dataloader):\n",
        "    model.eval()\n",
        "    correct, total = 0, 0\n",
        "    with torch.no_grad():\n",
        "        for x, y in dataloader:\n",
        "            x, y = x.to(device), y.to(device)\n",
        "            preds = model(x).argmax(1)\n",
        "            correct += (preds == y).sum().item()\n",
        "            total += y.size(0)\n",
        "    return correct / total"
      ],
      "metadata": {
        "id": "ZNCNTL6w9ukU"
      },
      "execution_count": 57,
      "outputs": []
    },
    {
      "cell_type": "markdown",
      "source": [
        "## 2. Test on raw images data"
      ],
      "metadata": {
        "id": "uGAsN7xb-aXk"
      }
    },
    {
      "cell_type": "code",
      "source": [
        "from torchvision import datasets, transforms\n",
        "from torch.utils.data import DataLoader, Subset\n",
        "\n",
        "# Updated normalization for 3-channel CIFAR-10 (standard for image models)\n",
        "mean = (0.5, 0.5, 0.5)\n",
        "std = (0.5, 0.5, 0.5)\n",
        "\n",
        "# Flattened transform for raw image MLP\n",
        "train_transform_flat = transforms.Compose([\n",
        "    transforms.RandomRotation(15),\n",
        "    transforms.ToTensor(),\n",
        "    transforms.Normalize(mean, std),\n",
        "    transforms.Lambda(lambda x: x.view(-1))  # Flatten to [3072]\n",
        "])\n",
        "\n",
        "val_test_transform_flat = transforms.Compose([\n",
        "    transforms.ToTensor(),\n",
        "    transforms.Normalize(mean, std),\n",
        "    transforms.Lambda(lambda x: x.view(-1))  # Flatten to [3072]\n",
        "])\n",
        "\n",
        "# Load CIFAR-10 with flatten transforms\n",
        "raw_train_dataset = datasets.CIFAR10(root=\"data\", train=True, download=True, transform=train_transform_flat)\n",
        "raw_val_dataset   = datasets.CIFAR10(root=\"data\", train=True, download=True, transform=val_test_transform_flat)\n",
        "raw_test_dataset  = datasets.CIFAR10(root=\"data\", train=False, download=True, transform=val_test_transform_flat)\n",
        "\n",
        "# Split into 40k train and 10k val (same as before)\n",
        "raw_train_dataset = Subset(raw_train_dataset, range(40000))\n",
        "raw_val_dataset   = Subset(raw_val_dataset, range(40000, len(raw_val_dataset)))\n",
        "\n",
        "# DataLoaders\n",
        "raw_train_loader = DataLoader(dataset=raw_train_dataset, batch_size=BATCH_SIZE, drop_last=True, shuffle=True)\n",
        "raw_val_loader   = DataLoader(dataset=raw_val_dataset, batch_size=BATCH_SIZE, drop_last=True, shuffle=True)\n",
        "raw_test_loader  = DataLoader(dataset=raw_test_dataset, batch_size=BATCH_SIZE, shuffle=False)\n"
      ],
      "metadata": {
        "id": "wUbfWWQC-ehw"
      },
      "execution_count": 59,
      "outputs": []
    },
    {
      "cell_type": "code",
      "source": [
        "model_raw = BaseModel(input_dim=3072, num_classes=10).to(device)\n",
        "\n",
        "criterion = nn.CrossEntropyLoss()\n",
        "optimizer = torch.optim.Adam(model_raw.parameters(), lr=1e-3)"
      ],
      "metadata": {
        "id": "GTKJjHNH-4PT"
      },
      "execution_count": 62,
      "outputs": []
    },
    {
      "cell_type": "code",
      "source": [
        "train_model(\n",
        "    model=model_raw,\n",
        "    train_loader=raw_train_loader,\n",
        "    val_loader=raw_val_loader,\n",
        "    optimizer=optimizer,\n",
        "    criterion=criterion,\n",
        "    device=device,\n",
        "    epochs=10,\n",
        "    print_every=1\n",
        ")"
      ],
      "metadata": {
        "id": "UZCfHHeS--Ld",
        "outputId": "5a7c607a-c259-4150-b05a-3cb687b6461b",
        "colab": {
          "base_uri": "https://localhost:8080/"
        }
      },
      "execution_count": 65,
      "outputs": [
        {
          "output_type": "stream",
          "name": "stdout",
          "text": [
            "Epoch 1/10 | Train Acc: 0.4931 | Val Acc: 0.5024 | Train Loss: 1.4492 | Val Loss: 1.4424\n",
            "Epoch 2/10 | Train Acc: 0.4958 | Val Acc: 0.4996 | Train Loss: 1.4362 | Val Loss: 1.4257\n",
            "Epoch 3/10 | Train Acc: 0.5002 | Val Acc: 0.5065 | Train Loss: 1.4309 | Val Loss: 1.4161\n",
            "Epoch 4/10 | Train Acc: 0.4978 | Val Acc: 0.5153 | Train Loss: 1.4315 | Val Loss: 1.4018\n",
            "Epoch 5/10 | Train Acc: 0.4989 | Val Acc: 0.5098 | Train Loss: 1.4266 | Val Loss: 1.4169\n",
            "Epoch 6/10 | Train Acc: 0.5052 | Val Acc: 0.5101 | Train Loss: 1.4166 | Val Loss: 1.4077\n",
            "Epoch 7/10 | Train Acc: 0.5080 | Val Acc: 0.5166 | Train Loss: 1.4100 | Val Loss: 1.4076\n",
            "Epoch 8/10 | Train Acc: 0.5105 | Val Acc: 0.5149 | Train Loss: 1.4000 | Val Loss: 1.3979\n",
            "Epoch 9/10 | Train Acc: 0.5093 | Val Acc: 0.5161 | Train Loss: 1.4060 | Val Loss: 1.3980\n",
            "Epoch 10/10 | Train Acc: 0.5092 | Val Acc: 0.5190 | Train Loss: 1.4016 | Val Loss: 1.3982\n"
          ]
        }
      ]
    },
    {
      "cell_type": "code",
      "source": [
        "test_acc = evaluate(model, raw_test_loader)\n",
        "print(f\"✅ Final Test Accuracy: {test_acc:.4f}\")"
      ],
      "metadata": {
        "id": "yh3npNd9_JYH"
      },
      "execution_count": null,
      "outputs": []
    },
    {
      "cell_type": "markdown",
      "source": [
        "###3. Generate Embeddings for dataloaders"
      ],
      "metadata": {
        "id": "2MXq9aP51YCh"
      }
    },
    {
      "cell_type": "code",
      "source": [
        "import torch\n",
        "from torch.utils.data import TensorDataset, DataLoader\n",
        "\n",
        "# Helper function to extract embeddings from a dataloader\n",
        "def generate_embeddings(model, dataloader):\n",
        "    model.eval()\n",
        "    all_embeddings = []\n",
        "    all_labels = []\n",
        "    with torch.no_grad():\n",
        "        for x, y in dataloader:\n",
        "            x = x.to(device)\n",
        "            embeddings = model(x)  # shape: [B, 256]\n",
        "            all_embeddings.append(embeddings.cpu())\n",
        "            all_labels.append(y)\n",
        "\n",
        "    # Combine batches\n",
        "    all_embeddings = torch.cat(all_embeddings)\n",
        "    all_labels = torch.cat(all_labels)\n",
        "    return all_embeddings, all_labels\n"
      ],
      "metadata": {
        "id": "7EMp2I-O1c3Y"
      },
      "execution_count": 35,
      "outputs": []
    },
    {
      "cell_type": "code",
      "source": [
        "train_embs, train_lbls = generate_embeddings(model, train_loader)\n",
        "val_embs, val_lbls     = generate_embeddings(model, val_loader)\n",
        "test_embs, test_lbls   = generate_embeddings(model, test_loader)\n",
        "\n",
        "BATCH_SIZE = 512\n",
        "\n",
        "train_embed_dataset = TensorDataset(train_embs, train_lbls)\n",
        "val_embed_dataset   = TensorDataset(val_embs, val_lbls)\n",
        "test_embed_dataset  = TensorDataset(test_embs, test_lbls)\n",
        "\n",
        "train_embed_loader = DataLoader(train_embed_dataset, batch_size=BATCH_SIZE, shuffle=True)\n",
        "val_embed_loader   = DataLoader(val_embed_dataset, batch_size=BATCH_SIZE, shuffle=False)\n",
        "test_embed_loader  = DataLoader(test_embed_dataset, batch_size=BATCH_SIZE, shuffle=False)\n"
      ],
      "metadata": {
        "id": "Hl_hJc141iI4"
      },
      "execution_count": 41,
      "outputs": []
    },
    {
      "cell_type": "code",
      "source": [
        "print(f\"Length of train_embed_loader: {len(train_embed_loader)} batches of {BATCH_SIZE}...\")\n",
        "print(f\"Length of val_embed_loader: {len(val_embed_loader)} batches of {BATCH_SIZE}...\")\n",
        "print(f\"Length of test_embed_loader: {len(test_embed_loader)} batches of {BATCH_SIZE}...\")\n",
        "\n",
        "num_epochs = 1\n",
        "for epoch in range(num_epochs):\n",
        "    for batch_idx, (x, y) in enumerate(train_embed_loader):\n",
        "        if batch_idx >= 3:\n",
        "            break\n",
        "        print(\" Batch index:\", batch_idx, end=\"\")\n",
        "        print(\" | Batch size:\", y.shape[0], end=\"\")\n",
        "        print(\" | x shape:\", x.shape, end=\"\")\n",
        "        print(\" | y shape:\", y.shape)\n"
      ],
      "metadata": {
        "id": "D05Z9PMC1zWv",
        "outputId": "25b9fe8a-30a2-45a0-ab2b-c8cf78dacf43",
        "colab": {
          "base_uri": "https://localhost:8080/"
        }
      },
      "execution_count": 42,
      "outputs": [
        {
          "output_type": "stream",
          "name": "stdout",
          "text": [
            "Length of train_embed_loader: 78 batches of 512...\n",
            "Length of val_embed_loader: 19 batches of 512...\n",
            "Length of test_embed_loader: 20 batches of 512...\n",
            " Batch index: 0 | Batch size: 512 | x shape: torch.Size([512, 256]) | y shape: torch.Size([512])\n",
            " Batch index: 1 | Batch size: 512 | x shape: torch.Size([512, 256]) | y shape: torch.Size([512])\n",
            " Batch index: 2 | Batch size: 512 | x shape: torch.Size([512, 256]) | y shape: torch.Size([512])\n"
          ]
        }
      ]
    },
    {
      "cell_type": "markdown",
      "source": [
        "## 4. Train model on embeddings"
      ],
      "metadata": {
        "id": "hbxcQigm6GE5"
      }
    },
    {
      "cell_type": "code",
      "source": [
        "model_emb = BaseModel(input_dim=256, num_classes=10).to(device)\n",
        "\n",
        "criterion = nn.CrossEntropyLoss()\n",
        "optimizer = torch.optim.Adam(model_emb.parameters(), lr=1e-3)"
      ],
      "metadata": {
        "id": "RYr2oTfn9OdB"
      },
      "execution_count": 54,
      "outputs": []
    },
    {
      "cell_type": "code",
      "source": [
        "train_model(\n",
        "    model=model_emb,\n",
        "    train_loader=train_embed_loader,\n",
        "    val_loader=val_embed_loader,\n",
        "    optimizer=optimizer,\n",
        "    criterion=criterion,\n",
        "    device=device,\n",
        "    epochs=100,\n",
        "    print_every=10\n",
        ")"
      ],
      "metadata": {
        "id": "vawf8Cp29SHR",
        "outputId": "dc9e123b-3099-4fb2-968c-346b0df700ea",
        "colab": {
          "base_uri": "https://localhost:8080/"
        }
      },
      "execution_count": 56,
      "outputs": [
        {
          "output_type": "stream",
          "name": "stdout",
          "text": [
            "Epoch 10/100 | Train Acc: 0.8472 | Val Acc: 0.6597 | Train Loss: 0.4459 | Val Loss: 1.1876\n",
            "Epoch 20/100 | Train Acc: 0.8605 | Val Acc: 0.6581 | Train Loss: 0.4084 | Val Loss: 1.2649\n",
            "Epoch 30/100 | Train Acc: 0.8693 | Val Acc: 0.6553 | Train Loss: 0.3792 | Val Loss: 1.3384\n",
            "Epoch 40/100 | Train Acc: 0.8777 | Val Acc: 0.6591 | Train Loss: 0.3536 | Val Loss: 1.4271\n",
            "Epoch 50/100 | Train Acc: 0.8826 | Val Acc: 0.6533 | Train Loss: 0.3324 | Val Loss: 1.5173\n",
            "Epoch 60/100 | Train Acc: 0.8918 | Val Acc: 0.6471 | Train Loss: 0.3082 | Val Loss: 1.5959\n",
            "Epoch 70/100 | Train Acc: 0.8956 | Val Acc: 0.6522 | Train Loss: 0.2929 | Val Loss: 1.6861\n",
            "Epoch 80/100 | Train Acc: 0.8997 | Val Acc: 0.6506 | Train Loss: 0.2792 | Val Loss: 1.7904\n",
            "Epoch 90/100 | Train Acc: 0.9038 | Val Acc: 0.6478 | Train Loss: 0.2653 | Val Loss: 1.8913\n",
            "Epoch 100/100 | Train Acc: 0.9078 | Val Acc: 0.6494 | Train Loss: 0.2555 | Val Loss: 1.9903\n"
          ]
        }
      ]
    },
    {
      "cell_type": "code",
      "source": [
        "test_acc = evaluate(model, test_embed_loader)\n",
        "print(f\"✅ Final Test Accuracy: {test_acc:.4f}\")\n"
      ],
      "metadata": {
        "id": "usQJIGhPAeWG",
        "outputId": "3f805b04-7dab-4c7a-ab42-4f2672b37102",
        "colab": {
          "base_uri": "https://localhost:8080/"
        }
      },
      "execution_count": 58,
      "outputs": [
        {
          "output_type": "stream",
          "name": "stdout",
          "text": [
            "✅ Final Test Accuracy: 0.6473\n"
          ]
        }
      ]
    },
    {
      "cell_type": "markdown",
      "source": [
        "## Trying on resnet"
      ],
      "metadata": {
        "id": "9kLtxxHaAwDZ"
      }
    },
    {
      "cell_type": "code",
      "source": [
        "resnet = torch.hub.load('pytorch/vision', 'resnet18', weights=None)\n",
        "resnet"
      ],
      "metadata": {
        "id": "psTglzLEAyOC",
        "outputId": "382f27f0-e733-43db-d609-824b688a8e05",
        "colab": {
          "base_uri": "https://localhost:8080/"
        }
      },
      "execution_count": 6,
      "outputs": [
        {
          "output_type": "stream",
          "name": "stderr",
          "text": [
            "Using cache found in /root/.cache/torch/hub/pytorch_vision_main\n"
          ]
        },
        {
          "output_type": "execute_result",
          "data": {
            "text/plain": [
              "ResNet(\n",
              "  (conv1): Conv2d(3, 64, kernel_size=(7, 7), stride=(2, 2), padding=(3, 3), bias=False)\n",
              "  (bn1): BatchNorm2d(64, eps=1e-05, momentum=0.1, affine=True, track_running_stats=True)\n",
              "  (relu): ReLU(inplace=True)\n",
              "  (maxpool): MaxPool2d(kernel_size=3, stride=2, padding=1, dilation=1, ceil_mode=False)\n",
              "  (layer1): Sequential(\n",
              "    (0): BasicBlock(\n",
              "      (conv1): Conv2d(64, 64, kernel_size=(3, 3), stride=(1, 1), padding=(1, 1), bias=False)\n",
              "      (bn1): BatchNorm2d(64, eps=1e-05, momentum=0.1, affine=True, track_running_stats=True)\n",
              "      (relu): ReLU(inplace=True)\n",
              "      (conv2): Conv2d(64, 64, kernel_size=(3, 3), stride=(1, 1), padding=(1, 1), bias=False)\n",
              "      (bn2): BatchNorm2d(64, eps=1e-05, momentum=0.1, affine=True, track_running_stats=True)\n",
              "    )\n",
              "    (1): BasicBlock(\n",
              "      (conv1): Conv2d(64, 64, kernel_size=(3, 3), stride=(1, 1), padding=(1, 1), bias=False)\n",
              "      (bn1): BatchNorm2d(64, eps=1e-05, momentum=0.1, affine=True, track_running_stats=True)\n",
              "      (relu): ReLU(inplace=True)\n",
              "      (conv2): Conv2d(64, 64, kernel_size=(3, 3), stride=(1, 1), padding=(1, 1), bias=False)\n",
              "      (bn2): BatchNorm2d(64, eps=1e-05, momentum=0.1, affine=True, track_running_stats=True)\n",
              "    )\n",
              "  )\n",
              "  (layer2): Sequential(\n",
              "    (0): BasicBlock(\n",
              "      (conv1): Conv2d(64, 128, kernel_size=(3, 3), stride=(2, 2), padding=(1, 1), bias=False)\n",
              "      (bn1): BatchNorm2d(128, eps=1e-05, momentum=0.1, affine=True, track_running_stats=True)\n",
              "      (relu): ReLU(inplace=True)\n",
              "      (conv2): Conv2d(128, 128, kernel_size=(3, 3), stride=(1, 1), padding=(1, 1), bias=False)\n",
              "      (bn2): BatchNorm2d(128, eps=1e-05, momentum=0.1, affine=True, track_running_stats=True)\n",
              "      (downsample): Sequential(\n",
              "        (0): Conv2d(64, 128, kernel_size=(1, 1), stride=(2, 2), bias=False)\n",
              "        (1): BatchNorm2d(128, eps=1e-05, momentum=0.1, affine=True, track_running_stats=True)\n",
              "      )\n",
              "    )\n",
              "    (1): BasicBlock(\n",
              "      (conv1): Conv2d(128, 128, kernel_size=(3, 3), stride=(1, 1), padding=(1, 1), bias=False)\n",
              "      (bn1): BatchNorm2d(128, eps=1e-05, momentum=0.1, affine=True, track_running_stats=True)\n",
              "      (relu): ReLU(inplace=True)\n",
              "      (conv2): Conv2d(128, 128, kernel_size=(3, 3), stride=(1, 1), padding=(1, 1), bias=False)\n",
              "      (bn2): BatchNorm2d(128, eps=1e-05, momentum=0.1, affine=True, track_running_stats=True)\n",
              "    )\n",
              "  )\n",
              "  (layer3): Sequential(\n",
              "    (0): BasicBlock(\n",
              "      (conv1): Conv2d(128, 256, kernel_size=(3, 3), stride=(2, 2), padding=(1, 1), bias=False)\n",
              "      (bn1): BatchNorm2d(256, eps=1e-05, momentum=0.1, affine=True, track_running_stats=True)\n",
              "      (relu): ReLU(inplace=True)\n",
              "      (conv2): Conv2d(256, 256, kernel_size=(3, 3), stride=(1, 1), padding=(1, 1), bias=False)\n",
              "      (bn2): BatchNorm2d(256, eps=1e-05, momentum=0.1, affine=True, track_running_stats=True)\n",
              "      (downsample): Sequential(\n",
              "        (0): Conv2d(128, 256, kernel_size=(1, 1), stride=(2, 2), bias=False)\n",
              "        (1): BatchNorm2d(256, eps=1e-05, momentum=0.1, affine=True, track_running_stats=True)\n",
              "      )\n",
              "    )\n",
              "    (1): BasicBlock(\n",
              "      (conv1): Conv2d(256, 256, kernel_size=(3, 3), stride=(1, 1), padding=(1, 1), bias=False)\n",
              "      (bn1): BatchNorm2d(256, eps=1e-05, momentum=0.1, affine=True, track_running_stats=True)\n",
              "      (relu): ReLU(inplace=True)\n",
              "      (conv2): Conv2d(256, 256, kernel_size=(3, 3), stride=(1, 1), padding=(1, 1), bias=False)\n",
              "      (bn2): BatchNorm2d(256, eps=1e-05, momentum=0.1, affine=True, track_running_stats=True)\n",
              "    )\n",
              "  )\n",
              "  (layer4): Sequential(\n",
              "    (0): BasicBlock(\n",
              "      (conv1): Conv2d(256, 512, kernel_size=(3, 3), stride=(2, 2), padding=(1, 1), bias=False)\n",
              "      (bn1): BatchNorm2d(512, eps=1e-05, momentum=0.1, affine=True, track_running_stats=True)\n",
              "      (relu): ReLU(inplace=True)\n",
              "      (conv2): Conv2d(512, 512, kernel_size=(3, 3), stride=(1, 1), padding=(1, 1), bias=False)\n",
              "      (bn2): BatchNorm2d(512, eps=1e-05, momentum=0.1, affine=True, track_running_stats=True)\n",
              "      (downsample): Sequential(\n",
              "        (0): Conv2d(256, 512, kernel_size=(1, 1), stride=(2, 2), bias=False)\n",
              "        (1): BatchNorm2d(512, eps=1e-05, momentum=0.1, affine=True, track_running_stats=True)\n",
              "      )\n",
              "    )\n",
              "    (1): BasicBlock(\n",
              "      (conv1): Conv2d(512, 512, kernel_size=(3, 3), stride=(1, 1), padding=(1, 1), bias=False)\n",
              "      (bn1): BatchNorm2d(512, eps=1e-05, momentum=0.1, affine=True, track_running_stats=True)\n",
              "      (relu): ReLU(inplace=True)\n",
              "      (conv2): Conv2d(512, 512, kernel_size=(3, 3), stride=(1, 1), padding=(1, 1), bias=False)\n",
              "      (bn2): BatchNorm2d(512, eps=1e-05, momentum=0.1, affine=True, track_running_stats=True)\n",
              "    )\n",
              "  )\n",
              "  (avgpool): AdaptiveAvgPool2d(output_size=(1, 1))\n",
              "  (fc): Linear(in_features=512, out_features=1000, bias=True)\n",
              ")"
            ]
          },
          "metadata": {},
          "execution_count": 6
        }
      ]
    },
    {
      "cell_type": "code",
      "source": [
        "# Replace the first conv and avgpool with identity since embeddings skip CNN part\n",
        "resnet.conv1 = nn.Identity()\n",
        "resnet.bn1 = nn.Identity()\n",
        "resnet.relu = nn.Identity()\n",
        "resnet.maxpool = nn.Identity()\n",
        "resnet.layer1 = nn.Identity()\n",
        "resnet.layer2 = nn.Identity()\n",
        "resnet.layer3 = nn.Identity()\n",
        "resnet.layer4 = nn.Identity()\n",
        "resnet.avgpool = nn.Identity()\n",
        "\n",
        "# Replace fc layer with classifier for 256-D embeddings\n",
        "resnet.fc = nn.Sequential(\n",
        "    nn.Linear(256, 128),\n",
        "    nn.ReLU(),\n",
        "    nn.Dropout(0.3),\n",
        "    nn.Linear(128, 10)\n",
        ")\n",
        "\n",
        "model = resnet.to(device)\n",
        "model"
      ],
      "metadata": {
        "id": "dO4vNp-RCAVk",
        "outputId": "a4add9df-3263-4e55-d348-8e80440123ef",
        "colab": {
          "base_uri": "https://localhost:8080/"
        }
      },
      "execution_count": 9,
      "outputs": [
        {
          "output_type": "execute_result",
          "data": {
            "text/plain": [
              "ResNet(\n",
              "  (conv1): Identity()\n",
              "  (bn1): Identity()\n",
              "  (relu): Identity()\n",
              "  (maxpool): Identity()\n",
              "  (layer1): Identity()\n",
              "  (layer2): Identity()\n",
              "  (layer3): Identity()\n",
              "  (layer4): Identity()\n",
              "  (avgpool): Identity()\n",
              "  (fc): Sequential(\n",
              "    (0): Linear(in_features=256, out_features=128, bias=True)\n",
              "    (1): ReLU()\n",
              "    (2): Dropout(p=0.3, inplace=False)\n",
              "    (3): Linear(in_features=128, out_features=10, bias=True)\n",
              "  )\n",
              ")"
            ]
          },
          "metadata": {},
          "execution_count": 9
        }
      ]
    },
    {
      "cell_type": "code",
      "source": [],
      "metadata": {
        "id": "y87wPy5KCY_T"
      },
      "execution_count": null,
      "outputs": []
    }
  ]
}